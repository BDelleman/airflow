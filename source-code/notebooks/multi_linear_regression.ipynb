{
 "cells": [
  {
   "cell_type": "code",
   "execution_count": null,
   "metadata": {},
   "outputs": [],
   "source": [
    "import numpy as np\n",
    "import pandas as pd\n",
    "import sqlalchemy\n",
    "from airflow.hooks.mysql_hook import MySqlHook\n",
    "import time"
   ]
  },
  {
   "cell_type": "code",
   "execution_count": null,
   "metadata": {},
   "outputs": [],
   "source": [
    "x_train = pd.read_csv('/home/airflow/gcs/data/x_train.csv')\n",
    "time.sleep(5)\n",
    "y_train = pd.read_csv('/home/airflow/gcs/data/y_train.csv')\n",
    "time.sleep(5)\n",
    "x_test = pd.read_csv('/home/airflow/gcs/data/x_test.csv')\n",
    "time.sleep(5)\n",
    "y_test = pd.read_csv('/home/airflow/gcs/data/y_test.csv')\n",
    "time.sleep(5)"
   ]
  },
  {
   "cell_type": "code",
   "execution_count": null,
   "metadata": {},
   "outputs": [],
   "source": [
    "from sklearn.linear_model import LinearRegression\n",
    "regressor = LinearRegression()\n",
    "regressor.fit(x_train, y_train)"
   ]
  },
  {
   "cell_type": "code",
   "execution_count": null,
   "metadata": {},
   "outputs": [],
   "source": [
    "y_pred = regressor.predict(x_test)"
   ]
  },
  {
   "cell_type": "code",
   "execution_count": null,
   "metadata": {},
   "outputs": [],
   "source": [
    "from sklearn.metrics import r2_score\n",
    "r2_multi_linear=str(r2_score(y_test, y_pred))\n",
    "print(r2_multi_linear)"
   ]
  },
  {
   "cell_type": "code",
   "execution_count": null,
   "metadata": {},
   "outputs": [],
   "source": [
    "hh = MySqlHook(mysql_conn_id='airflowsql')\n",
    "conn = hh.get_conn()\n",
    "\n",
    "engine = sqlalchemy.create_engine(hh.get_uri(), echo=False)\n",
    "#sql_query = sqlalchemy.text(\"INSERT INTO r2_results(r2_linear_regression) VALUES (99,99)\"\n",
    "engine.execute(\"INSERT INTO r2_results(linear_regression) VALUES (\" + r2_multi_linear + \")\")"
   ]
  }
 ],
 "metadata": {
  "celltoolbar": "Tags",
  "kernelspec": {
   "display_name": "Python 3",
   "language": "python",
   "name": "python3"
  },
  "language_info": {
   "codemirror_mode": {
    "name": "ipython",
    "version": 3
   },
   "file_extension": ".py",
   "mimetype": "text/x-python",
   "name": "python",
   "nbconvert_exporter": "python",
   "pygments_lexer": "ipython3",
   "version": "3.8.5"
  }
 },
 "nbformat": 4,
 "nbformat_minor": 4
}
